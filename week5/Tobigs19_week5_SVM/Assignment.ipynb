{
 "cells": [
  {
   "cell_type": "markdown",
   "id": "9ad88f3e",
   "metadata": {},
   "source": [
    "# Multiclass SVM 구현"
   ]
  },
  {
   "cell_type": "code",
   "execution_count": 200,
   "id": "1ee53277",
   "metadata": {},
   "outputs": [
    {
     "name": "stdout",
     "output_type": "stream",
     "text": [
      "0         setosa\n",
      "1         setosa\n",
      "2         setosa\n",
      "3         setosa\n",
      "4         setosa\n",
      "         ...    \n",
      "145    virginica\n",
      "146    virginica\n",
      "147    virginica\n",
      "148    virginica\n",
      "149    virginica\n",
      "Name: species, Length: 150, dtype: object\n"
     ]
    }
   ],
   "source": [
    "import numpy as np\n",
    "import pandas as pd\n",
    "import matplotlib.pyplot as plt\n",
    "import seaborn as sns\n",
    "from sklearn.svm import SVC\n",
    "from sklearn.model_selection import train_test_split\n",
    "from sklearn.pipeline import Pipeline\n",
    "from sklearn.preprocessing import StandardScaler\n",
    "from sklearn.metrics import accuracy_score\n",
    "\n",
    "#IRIS 데이터 로드\n",
    "iris =  sns.load_dataset('iris') \n",
    "X= iris.iloc[:,:4] #학습할데이터\n",
    "y = iris.iloc[:,-1] #타겟\n",
    "print(y)"
   ]
  },
  {
   "cell_type": "code",
   "execution_count": 201,
   "id": "57c67bc8",
   "metadata": {},
   "outputs": [],
   "source": [
    "X_train, X_test, y_train, y_test = train_test_split(X, y, test_size=0.2) #데이터 분리"
   ]
  },
  {
   "cell_type": "code",
   "execution_count": 202,
   "id": "88a4203d",
   "metadata": {},
   "outputs": [],
   "source": [
    "def standardization(train, test): #스케일링\n",
    "    scaler = StandardScaler()\n",
    "    train = scaler.fit_transform(train)\n",
    "    test = scaler.transform(test)\n",
    "    return train, test\n",
    "\n",
    "X_train, X_test = standardization(X_train, X_test)"
   ]
  },
  {
   "cell_type": "code",
   "execution_count": 203,
   "id": "426a3a00",
   "metadata": {},
   "outputs": [],
   "source": [
    "class one_vs_rest: \n",
    "    def __init__(self, class_number): \n",
    "        self.class_number = class_number #class의 갯수\n",
    "        self.cls = []                    #class의 갯수 만큼 생성되는 classifier를 저장하는 배열\n",
    "        self.pred = None                 #각 classifier의 prediction 값이 저장되는 배열\n",
    "        self.result = []                 #argmax를 통해 정해지는 predict class\n",
    "\n",
    "    def one_hot_encoding(self, y_train): #y를 one-hot-encoding으로 변환\n",
    "        \n",
    "        y_train = pd.get_dummies(y_train) \n",
    "        return y_train\n",
    "\n",
    "    def make_model(self, X_train, y_train):\n",
    "        for i in range(self.class_number):    \n",
    "            clf = SVC(kernel='rbf', C=5, gamma=5) #class_number의 갯수에 맞게 svc생성\n",
    "            clf.fit(X_train, y_train.iloc[:,i])   #model fitting\n",
    "            self.cls.append(clf)                  #각 class에 대한 svc를 cls배열에 저장\n",
    "    \n",
    "    def decision_function_predict(self, X_test, labels): \n",
    "        cnt =  0 \n",
    "\n",
    "        for cls in self.cls:                      # cls 배열에서 cls를 받아옴\n",
    "            if self.pred is None:                 \n",
    "                self.pred = cls.decision_function(X_test) # 만약 첫 cls라서 배열값이 없으면 해당 cls의 pred를 추가함. \n",
    "            \n",
    "            else: #이미 self.pred가 차있다면 stack을 저장\n",
    "                self.pred = np.vstack((self.pred, cls.decision_function(X_test)))\n",
    "\n",
    "        self.pred = self.pred.T #전치로 뒤집으면 배열의 첫번째 줄은 각 cls에 대한 pred값이 나타나게됨. \n",
    "        for value in self.pred:\n",
    "            \n",
    "            for temp in value: #각 줄마다의 음수값의 개수를 알려고함 \n",
    "                if temp<0: \n",
    "                    cnt = cnt + 1 \n",
    "\n",
    "            if cnt == len(value):  #만약 줄의 모든 요소들이 음수라면\n",
    "                self.result.append(labels[value.argmin()]) # 가장 작은 음수(절대값상으로 가장큰)를 추가 \n",
    "            \n",
    "            else : \n",
    "                self.result.append(labels[value.argmax()]) # 그 외에는 가장 큰 수를 추가(양수)\n",
    "            \n",
    "        return self.result\n",
    "\n",
    "    def test(self, y_test):\n",
    "        print(accuracy_score(y_test, self.result))\n"
   ]
  },
  {
   "cell_type": "code",
   "execution_count": 204,
   "id": "f8fc93da",
   "metadata": {},
   "outputs": [],
   "source": [
    "one_vs_rest = one_vs_rest(3)\n",
    "y_train =one_vs_rest.one_hot_encoding(y_train)\n",
    "one_vs_rest.make_model(X_train, y_train)"
   ]
  },
  {
   "cell_type": "code",
   "execution_count": 205,
   "id": "0d4c1a98",
   "metadata": {},
   "outputs": [],
   "source": [
    "labels = [\"setosa\", \"versicolor\", \"virginica\"]\n",
    "pred =one_vs_rest.decision_function_predict(X_test, labels)"
   ]
  },
  {
   "cell_type": "code",
   "execution_count": 206,
   "id": "88a0a5fe",
   "metadata": {},
   "outputs": [
    {
     "name": "stdout",
     "output_type": "stream",
     "text": [
      "0.9333333333333333\n"
     ]
    }
   ],
   "source": [
    "one_vs_rest.test(y_test)"
   ]
  },
  {
   "cell_type": "code",
   "execution_count": null,
   "id": "20742178",
   "metadata": {},
   "outputs": [],
   "source": []
  }
 ],
 "metadata": {
  "kernelspec": {
   "display_name": "Tobigs",
   "language": "python",
   "name": "python3"
  },
  "language_info": {
   "codemirror_mode": {
    "name": "ipython",
    "version": 3
   },
   "file_extension": ".py",
   "mimetype": "text/x-python",
   "name": "python",
   "nbconvert_exporter": "python",
   "pygments_lexer": "ipython3",
   "version": "3.9.16"
  },
  "vscode": {
   "interpreter": {
    "hash": "1723ca75e010e0f574f0d977b92b6e3c7690ddfd33e66c0b57230fb6ff837c6d"
   }
  }
 },
 "nbformat": 4,
 "nbformat_minor": 5
}
