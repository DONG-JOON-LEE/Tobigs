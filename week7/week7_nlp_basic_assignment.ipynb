{
 "cells": [
  {
   "cell_type": "code",
   "execution_count": 1,
   "metadata": {},
   "outputs": [
    {
     "name": "stderr",
     "output_type": "stream",
     "text": [
      "[nltk_data] Downloading package punkt to /home/dilab/nltk_data...\n",
      "[nltk_data]   Package punkt is already up-to-date!\n"
     ]
    }
   ],
   "source": [
    "import tensorflow as tf \n",
    "import gensim\n",
    "from gensim.models import Word2Vec, FastText\n",
    "import matplotlib.pyplot as plt\n",
    "import seaborn as sns\n",
    "import scipy.stats as st\n",
    "import pandas as pd\n",
    "import re\n",
    "import nltk\n",
    "nltk.download('punkt')\n",
    "from tensorflow.keras.preprocessing.text import text_to_word_sequence\n"
   ]
  },
  {
   "cell_type": "code",
   "execution_count": 2,
   "metadata": {},
   "outputs": [
    {
     "data": {
      "text/html": [
       "<div>\n",
       "<style scoped>\n",
       "    .dataframe tbody tr th:only-of-type {\n",
       "        vertical-align: middle;\n",
       "    }\n",
       "\n",
       "    .dataframe tbody tr th {\n",
       "        vertical-align: top;\n",
       "    }\n",
       "\n",
       "    .dataframe thead th {\n",
       "        text-align: right;\n",
       "    }\n",
       "</style>\n",
       "<table border=\"1\" class=\"dataframe\">\n",
       "  <thead>\n",
       "    <tr style=\"text-align: right;\">\n",
       "      <th></th>\n",
       "      <th>v1</th>\n",
       "      <th>v2</th>\n",
       "    </tr>\n",
       "  </thead>\n",
       "  <tbody>\n",
       "    <tr>\n",
       "      <th>0</th>\n",
       "      <td>ham</td>\n",
       "      <td>Go until jurong point, crazy.. Available only ...</td>\n",
       "    </tr>\n",
       "    <tr>\n",
       "      <th>1</th>\n",
       "      <td>ham</td>\n",
       "      <td>Ok lar... Joking wif u oni...</td>\n",
       "    </tr>\n",
       "    <tr>\n",
       "      <th>2</th>\n",
       "      <td>spam</td>\n",
       "      <td>Free entry in 2 a wkly comp to win FA Cup fina...</td>\n",
       "    </tr>\n",
       "    <tr>\n",
       "      <th>3</th>\n",
       "      <td>ham</td>\n",
       "      <td>U dun say so early hor... U c already then say...</td>\n",
       "    </tr>\n",
       "    <tr>\n",
       "      <th>4</th>\n",
       "      <td>ham</td>\n",
       "      <td>Nah I don't think he goes to usf, he lives aro...</td>\n",
       "    </tr>\n",
       "    <tr>\n",
       "      <th>...</th>\n",
       "      <td>...</td>\n",
       "      <td>...</td>\n",
       "    </tr>\n",
       "    <tr>\n",
       "      <th>5567</th>\n",
       "      <td>spam</td>\n",
       "      <td>This is the 2nd time we have tried 2 contact u...</td>\n",
       "    </tr>\n",
       "    <tr>\n",
       "      <th>5568</th>\n",
       "      <td>ham</td>\n",
       "      <td>Will Ì_ b going to esplanade fr home?</td>\n",
       "    </tr>\n",
       "    <tr>\n",
       "      <th>5569</th>\n",
       "      <td>ham</td>\n",
       "      <td>Pity, * was in mood for that. So...any other s...</td>\n",
       "    </tr>\n",
       "    <tr>\n",
       "      <th>5570</th>\n",
       "      <td>ham</td>\n",
       "      <td>The guy did some bitching but I acted like i'd...</td>\n",
       "    </tr>\n",
       "    <tr>\n",
       "      <th>5571</th>\n",
       "      <td>ham</td>\n",
       "      <td>Rofl. Its true to its name</td>\n",
       "    </tr>\n",
       "  </tbody>\n",
       "</table>\n",
       "<p>5572 rows × 2 columns</p>\n",
       "</div>"
      ],
      "text/plain": [
       "        v1                                                 v2\n",
       "0      ham  Go until jurong point, crazy.. Available only ...\n",
       "1      ham                      Ok lar... Joking wif u oni...\n",
       "2     spam  Free entry in 2 a wkly comp to win FA Cup fina...\n",
       "3      ham  U dun say so early hor... U c already then say...\n",
       "4      ham  Nah I don't think he goes to usf, he lives aro...\n",
       "...    ...                                                ...\n",
       "5567  spam  This is the 2nd time we have tried 2 contact u...\n",
       "5568   ham              Will Ì_ b going to esplanade fr home?\n",
       "5569   ham  Pity, * was in mood for that. So...any other s...\n",
       "5570   ham  The guy did some bitching but I acted like i'd...\n",
       "5571   ham                         Rofl. Its true to its name\n",
       "\n",
       "[5572 rows x 2 columns]"
      ]
     },
     "execution_count": 2,
     "metadata": {},
     "output_type": "execute_result"
    }
   ],
   "source": [
    "spam = pd.read_csv('./spam.csv')\n",
    "spam"
   ]
  },
  {
   "cell_type": "code",
   "execution_count": 3,
   "metadata": {},
   "outputs": [
    {
     "data": {
      "text/html": [
       "<div>\n",
       "<style scoped>\n",
       "    .dataframe tbody tr th:only-of-type {\n",
       "        vertical-align: middle;\n",
       "    }\n",
       "\n",
       "    .dataframe tbody tr th {\n",
       "        vertical-align: top;\n",
       "    }\n",
       "\n",
       "    .dataframe thead th {\n",
       "        text-align: right;\n",
       "    }\n",
       "</style>\n",
       "<table border=\"1\" class=\"dataframe\">\n",
       "  <thead>\n",
       "    <tr style=\"text-align: right;\">\n",
       "      <th></th>\n",
       "      <th>index</th>\n",
       "      <th>v1</th>\n",
       "      <th>v2</th>\n",
       "    </tr>\n",
       "  </thead>\n",
       "  <tbody>\n",
       "    <tr>\n",
       "      <th>0</th>\n",
       "      <td>0</td>\n",
       "      <td>ham</td>\n",
       "      <td>Go until jurong point, crazy.. Available only ...</td>\n",
       "    </tr>\n",
       "    <tr>\n",
       "      <th>1</th>\n",
       "      <td>1</td>\n",
       "      <td>ham</td>\n",
       "      <td>Ok lar... Joking wif u oni...</td>\n",
       "    </tr>\n",
       "    <tr>\n",
       "      <th>2</th>\n",
       "      <td>2</td>\n",
       "      <td>spam</td>\n",
       "      <td>Free entry in 2 a wkly comp to win FA Cup fina...</td>\n",
       "    </tr>\n",
       "    <tr>\n",
       "      <th>3</th>\n",
       "      <td>3</td>\n",
       "      <td>ham</td>\n",
       "      <td>U dun say so early hor... U c already then say...</td>\n",
       "    </tr>\n",
       "    <tr>\n",
       "      <th>4</th>\n",
       "      <td>4</td>\n",
       "      <td>ham</td>\n",
       "      <td>Nah I don't think he goes to usf, he lives aro...</td>\n",
       "    </tr>\n",
       "    <tr>\n",
       "      <th>...</th>\n",
       "      <td>...</td>\n",
       "      <td>...</td>\n",
       "      <td>...</td>\n",
       "    </tr>\n",
       "    <tr>\n",
       "      <th>5164</th>\n",
       "      <td>5567</td>\n",
       "      <td>spam</td>\n",
       "      <td>This is the 2nd time we have tried 2 contact u...</td>\n",
       "    </tr>\n",
       "    <tr>\n",
       "      <th>5165</th>\n",
       "      <td>5568</td>\n",
       "      <td>ham</td>\n",
       "      <td>Will Ì_ b going to esplanade fr home?</td>\n",
       "    </tr>\n",
       "    <tr>\n",
       "      <th>5166</th>\n",
       "      <td>5569</td>\n",
       "      <td>ham</td>\n",
       "      <td>Pity, * was in mood for that. So...any other s...</td>\n",
       "    </tr>\n",
       "    <tr>\n",
       "      <th>5167</th>\n",
       "      <td>5570</td>\n",
       "      <td>ham</td>\n",
       "      <td>The guy did some bitching but I acted like i'd...</td>\n",
       "    </tr>\n",
       "    <tr>\n",
       "      <th>5168</th>\n",
       "      <td>5571</td>\n",
       "      <td>ham</td>\n",
       "      <td>Rofl. Its true to its name</td>\n",
       "    </tr>\n",
       "  </tbody>\n",
       "</table>\n",
       "<p>5169 rows × 3 columns</p>\n",
       "</div>"
      ],
      "text/plain": [
       "      index    v1                                                 v2\n",
       "0         0   ham  Go until jurong point, crazy.. Available only ...\n",
       "1         1   ham                      Ok lar... Joking wif u oni...\n",
       "2         2  spam  Free entry in 2 a wkly comp to win FA Cup fina...\n",
       "3         3   ham  U dun say so early hor... U c already then say...\n",
       "4         4   ham  Nah I don't think he goes to usf, he lives aro...\n",
       "...     ...   ...                                                ...\n",
       "5164   5567  spam  This is the 2nd time we have tried 2 contact u...\n",
       "5165   5568   ham              Will Ì_ b going to esplanade fr home?\n",
       "5166   5569   ham  Pity, * was in mood for that. So...any other s...\n",
       "5167   5570   ham  The guy did some bitching but I acted like i'd...\n",
       "5168   5571   ham                         Rofl. Its true to its name\n",
       "\n",
       "[5169 rows x 3 columns]"
      ]
     },
     "execution_count": 3,
     "metadata": {},
     "output_type": "execute_result"
    }
   ],
   "source": [
    "# 중복데이터 존재(기존데이터 5573개, nuique 5169개)\n",
    "spam.v2.nunique()\n",
    "\n",
    "#중복데이터 제거 \n",
    "spam.drop_duplicates(subset=['v2'], inplace=True)\n",
    "\n",
    "#index 초기화 \n",
    "spam = spam.reset_index()\n",
    "\n",
    "spam"
   ]
  },
  {
   "attachments": {},
   "cell_type": "markdown",
   "metadata": {},
   "source": [
    "### 전처리"
   ]
  },
  {
   "cell_type": "code",
   "execution_count": 4,
   "metadata": {},
   "outputs": [],
   "source": [
    "def lower(sen):\n",
    "    text = re.sub('[^a-zA-Z]', ' ', sen).lower()\n",
    "    return text"
   ]
  },
  {
   "cell_type": "code",
   "execution_count": 5,
   "metadata": {},
   "outputs": [
    {
     "data": {
      "text/html": [
       "<div>\n",
       "<style scoped>\n",
       "    .dataframe tbody tr th:only-of-type {\n",
       "        vertical-align: middle;\n",
       "    }\n",
       "\n",
       "    .dataframe tbody tr th {\n",
       "        vertical-align: top;\n",
       "    }\n",
       "\n",
       "    .dataframe thead th {\n",
       "        text-align: right;\n",
       "    }\n",
       "</style>\n",
       "<table border=\"1\" class=\"dataframe\">\n",
       "  <thead>\n",
       "    <tr style=\"text-align: right;\">\n",
       "      <th></th>\n",
       "      <th>index</th>\n",
       "      <th>v1</th>\n",
       "      <th>v2</th>\n",
       "    </tr>\n",
       "  </thead>\n",
       "  <tbody>\n",
       "    <tr>\n",
       "      <th>0</th>\n",
       "      <td>0</td>\n",
       "      <td>ham</td>\n",
       "      <td>go until jurong point  crazy   available only ...</td>\n",
       "    </tr>\n",
       "    <tr>\n",
       "      <th>1</th>\n",
       "      <td>1</td>\n",
       "      <td>ham</td>\n",
       "      <td>ok lar    joking wif u oni</td>\n",
       "    </tr>\n",
       "    <tr>\n",
       "      <th>2</th>\n",
       "      <td>2</td>\n",
       "      <td>spam</td>\n",
       "      <td>free entry in   a wkly comp to win fa cup fina...</td>\n",
       "    </tr>\n",
       "    <tr>\n",
       "      <th>3</th>\n",
       "      <td>3</td>\n",
       "      <td>ham</td>\n",
       "      <td>u dun say so early hor    u c already then say</td>\n",
       "    </tr>\n",
       "    <tr>\n",
       "      <th>4</th>\n",
       "      <td>4</td>\n",
       "      <td>ham</td>\n",
       "      <td>nah i don t think he goes to usf  he lives aro...</td>\n",
       "    </tr>\n",
       "    <tr>\n",
       "      <th>...</th>\n",
       "      <td>...</td>\n",
       "      <td>...</td>\n",
       "      <td>...</td>\n",
       "    </tr>\n",
       "    <tr>\n",
       "      <th>5164</th>\n",
       "      <td>5567</td>\n",
       "      <td>spam</td>\n",
       "      <td>this is the  nd time we have tried   contact u...</td>\n",
       "    </tr>\n",
       "    <tr>\n",
       "      <th>5165</th>\n",
       "      <td>5568</td>\n",
       "      <td>ham</td>\n",
       "      <td>will    b going to esplanade fr home</td>\n",
       "    </tr>\n",
       "    <tr>\n",
       "      <th>5166</th>\n",
       "      <td>5569</td>\n",
       "      <td>ham</td>\n",
       "      <td>pity    was in mood for that  so   any other s...</td>\n",
       "    </tr>\n",
       "    <tr>\n",
       "      <th>5167</th>\n",
       "      <td>5570</td>\n",
       "      <td>ham</td>\n",
       "      <td>the guy did some bitching but i acted like i d...</td>\n",
       "    </tr>\n",
       "    <tr>\n",
       "      <th>5168</th>\n",
       "      <td>5571</td>\n",
       "      <td>ham</td>\n",
       "      <td>rofl  its true to its name</td>\n",
       "    </tr>\n",
       "  </tbody>\n",
       "</table>\n",
       "<p>5169 rows × 3 columns</p>\n",
       "</div>"
      ],
      "text/plain": [
       "      index    v1                                                 v2\n",
       "0         0   ham  go until jurong point  crazy   available only ...\n",
       "1         1   ham                      ok lar    joking wif u oni   \n",
       "2         2  spam  free entry in   a wkly comp to win fa cup fina...\n",
       "3         3   ham  u dun say so early hor    u c already then say   \n",
       "4         4   ham  nah i don t think he goes to usf  he lives aro...\n",
       "...     ...   ...                                                ...\n",
       "5164   5567  spam  this is the  nd time we have tried   contact u...\n",
       "5165   5568   ham              will    b going to esplanade fr home \n",
       "5166   5569   ham  pity    was in mood for that  so   any other s...\n",
       "5167   5570   ham  the guy did some bitching but i acted like i d...\n",
       "5168   5571   ham                         rofl  its true to its name\n",
       "\n",
       "[5169 rows x 3 columns]"
      ]
     },
     "execution_count": 5,
     "metadata": {},
     "output_type": "execute_result"
    }
   ],
   "source": [
    "spam.v2=spam.v2.apply(lower)\n",
    "spam"
   ]
  },
  {
   "attachments": {},
   "cell_type": "markdown",
   "metadata": {},
   "source": [
    "### Tokenizer"
   ]
  },
  {
   "cell_type": "code",
   "execution_count": 6,
   "metadata": {},
   "outputs": [],
   "source": [
    "from nltk.tokenize import word_tokenize\n",
    "from nltk.tokenize import WordPunctTokenizer\n",
    "from nltk.tokenize import TreebankWordTokenizer\n",
    "from tensorflow.keras.preprocessing.text import text_to_word_sequence"
   ]
  },
  {
   "cell_type": "code",
   "execution_count": 7,
   "metadata": {},
   "outputs": [],
   "source": [
    "# word_tokenize\n",
    "w_t = spam.copy()\n",
    "w_t.v2 = w_t.v2.apply(word_tokenize)"
   ]
  },
  {
   "cell_type": "code",
   "execution_count": 8,
   "metadata": {},
   "outputs": [
    {
     "data": {
      "text/html": [
       "<div>\n",
       "<style scoped>\n",
       "    .dataframe tbody tr th:only-of-type {\n",
       "        vertical-align: middle;\n",
       "    }\n",
       "\n",
       "    .dataframe tbody tr th {\n",
       "        vertical-align: top;\n",
       "    }\n",
       "\n",
       "    .dataframe thead th {\n",
       "        text-align: right;\n",
       "    }\n",
       "</style>\n",
       "<table border=\"1\" class=\"dataframe\">\n",
       "  <thead>\n",
       "    <tr style=\"text-align: right;\">\n",
       "      <th></th>\n",
       "      <th>index</th>\n",
       "      <th>v1</th>\n",
       "      <th>v2</th>\n",
       "    </tr>\n",
       "  </thead>\n",
       "  <tbody>\n",
       "    <tr>\n",
       "      <th>0</th>\n",
       "      <td>0</td>\n",
       "      <td>ham</td>\n",
       "      <td>[go, until, jurong, point, crazy, available, o...</td>\n",
       "    </tr>\n",
       "    <tr>\n",
       "      <th>1</th>\n",
       "      <td>1</td>\n",
       "      <td>ham</td>\n",
       "      <td>[ok, lar, joking, wif, u, oni]</td>\n",
       "    </tr>\n",
       "    <tr>\n",
       "      <th>2</th>\n",
       "      <td>2</td>\n",
       "      <td>spam</td>\n",
       "      <td>[free, entry, in, a, wkly, comp, to, win, fa, ...</td>\n",
       "    </tr>\n",
       "    <tr>\n",
       "      <th>3</th>\n",
       "      <td>3</td>\n",
       "      <td>ham</td>\n",
       "      <td>[u, dun, say, so, early, hor, u, c, already, t...</td>\n",
       "    </tr>\n",
       "    <tr>\n",
       "      <th>4</th>\n",
       "      <td>4</td>\n",
       "      <td>ham</td>\n",
       "      <td>[nah, i, don, t, think, he, goes, to, usf, he,...</td>\n",
       "    </tr>\n",
       "    <tr>\n",
       "      <th>...</th>\n",
       "      <td>...</td>\n",
       "      <td>...</td>\n",
       "      <td>...</td>\n",
       "    </tr>\n",
       "    <tr>\n",
       "      <th>5164</th>\n",
       "      <td>5567</td>\n",
       "      <td>spam</td>\n",
       "      <td>[this, is, the, nd, time, we, have, tried, con...</td>\n",
       "    </tr>\n",
       "    <tr>\n",
       "      <th>5165</th>\n",
       "      <td>5568</td>\n",
       "      <td>ham</td>\n",
       "      <td>[will, b, going, to, esplanade, fr, home]</td>\n",
       "    </tr>\n",
       "    <tr>\n",
       "      <th>5166</th>\n",
       "      <td>5569</td>\n",
       "      <td>ham</td>\n",
       "      <td>[pity, was, in, mood, for, that, so, any, othe...</td>\n",
       "    </tr>\n",
       "    <tr>\n",
       "      <th>5167</th>\n",
       "      <td>5570</td>\n",
       "      <td>ham</td>\n",
       "      <td>[the, guy, did, some, bitching, but, i, acted,...</td>\n",
       "    </tr>\n",
       "    <tr>\n",
       "      <th>5168</th>\n",
       "      <td>5571</td>\n",
       "      <td>ham</td>\n",
       "      <td>[rofl, its, true, to, its, name]</td>\n",
       "    </tr>\n",
       "  </tbody>\n",
       "</table>\n",
       "<p>5169 rows × 3 columns</p>\n",
       "</div>"
      ],
      "text/plain": [
       "      index    v1                                                 v2\n",
       "0         0   ham  [go, until, jurong, point, crazy, available, o...\n",
       "1         1   ham                     [ok, lar, joking, wif, u, oni]\n",
       "2         2  spam  [free, entry, in, a, wkly, comp, to, win, fa, ...\n",
       "3         3   ham  [u, dun, say, so, early, hor, u, c, already, t...\n",
       "4         4   ham  [nah, i, don, t, think, he, goes, to, usf, he,...\n",
       "...     ...   ...                                                ...\n",
       "5164   5567  spam  [this, is, the, nd, time, we, have, tried, con...\n",
       "5165   5568   ham          [will, b, going, to, esplanade, fr, home]\n",
       "5166   5569   ham  [pity, was, in, mood, for, that, so, any, othe...\n",
       "5167   5570   ham  [the, guy, did, some, bitching, but, i, acted,...\n",
       "5168   5571   ham                   [rofl, its, true, to, its, name]\n",
       "\n",
       "[5169 rows x 3 columns]"
      ]
     },
     "execution_count": 8,
     "metadata": {},
     "output_type": "execute_result"
    }
   ],
   "source": [
    "# WordPunctTokenizer\n",
    "w_p = spam.copy()\n",
    "w_p.v2 = w_p.v2.apply(WordPunctTokenizer().tokenize)\n",
    "w_p"
   ]
  },
  {
   "cell_type": "code",
   "execution_count": 9,
   "metadata": {},
   "outputs": [
    {
     "data": {
      "text/html": [
       "<div>\n",
       "<style scoped>\n",
       "    .dataframe tbody tr th:only-of-type {\n",
       "        vertical-align: middle;\n",
       "    }\n",
       "\n",
       "    .dataframe tbody tr th {\n",
       "        vertical-align: top;\n",
       "    }\n",
       "\n",
       "    .dataframe thead th {\n",
       "        text-align: right;\n",
       "    }\n",
       "</style>\n",
       "<table border=\"1\" class=\"dataframe\">\n",
       "  <thead>\n",
       "    <tr style=\"text-align: right;\">\n",
       "      <th></th>\n",
       "      <th>index</th>\n",
       "      <th>v1</th>\n",
       "      <th>v2</th>\n",
       "    </tr>\n",
       "  </thead>\n",
       "  <tbody>\n",
       "    <tr>\n",
       "      <th>0</th>\n",
       "      <td>0</td>\n",
       "      <td>ham</td>\n",
       "      <td>[go, until, jurong, point, crazy, available, o...</td>\n",
       "    </tr>\n",
       "    <tr>\n",
       "      <th>1</th>\n",
       "      <td>1</td>\n",
       "      <td>ham</td>\n",
       "      <td>[ok, lar, joking, wif, u, oni]</td>\n",
       "    </tr>\n",
       "    <tr>\n",
       "      <th>2</th>\n",
       "      <td>2</td>\n",
       "      <td>spam</td>\n",
       "      <td>[free, entry, in, a, wkly, comp, to, win, fa, ...</td>\n",
       "    </tr>\n",
       "    <tr>\n",
       "      <th>3</th>\n",
       "      <td>3</td>\n",
       "      <td>ham</td>\n",
       "      <td>[u, dun, say, so, early, hor, u, c, already, t...</td>\n",
       "    </tr>\n",
       "    <tr>\n",
       "      <th>4</th>\n",
       "      <td>4</td>\n",
       "      <td>ham</td>\n",
       "      <td>[nah, i, don, t, think, he, goes, to, usf, he,...</td>\n",
       "    </tr>\n",
       "    <tr>\n",
       "      <th>...</th>\n",
       "      <td>...</td>\n",
       "      <td>...</td>\n",
       "      <td>...</td>\n",
       "    </tr>\n",
       "    <tr>\n",
       "      <th>5164</th>\n",
       "      <td>5567</td>\n",
       "      <td>spam</td>\n",
       "      <td>[this, is, the, nd, time, we, have, tried, con...</td>\n",
       "    </tr>\n",
       "    <tr>\n",
       "      <th>5165</th>\n",
       "      <td>5568</td>\n",
       "      <td>ham</td>\n",
       "      <td>[will, b, going, to, esplanade, fr, home]</td>\n",
       "    </tr>\n",
       "    <tr>\n",
       "      <th>5166</th>\n",
       "      <td>5569</td>\n",
       "      <td>ham</td>\n",
       "      <td>[pity, was, in, mood, for, that, so, any, othe...</td>\n",
       "    </tr>\n",
       "    <tr>\n",
       "      <th>5167</th>\n",
       "      <td>5570</td>\n",
       "      <td>ham</td>\n",
       "      <td>[the, guy, did, some, bitching, but, i, acted,...</td>\n",
       "    </tr>\n",
       "    <tr>\n",
       "      <th>5168</th>\n",
       "      <td>5571</td>\n",
       "      <td>ham</td>\n",
       "      <td>[rofl, its, true, to, its, name]</td>\n",
       "    </tr>\n",
       "  </tbody>\n",
       "</table>\n",
       "<p>5169 rows × 3 columns</p>\n",
       "</div>"
      ],
      "text/plain": [
       "      index    v1                                                 v2\n",
       "0         0   ham  [go, until, jurong, point, crazy, available, o...\n",
       "1         1   ham                     [ok, lar, joking, wif, u, oni]\n",
       "2         2  spam  [free, entry, in, a, wkly, comp, to, win, fa, ...\n",
       "3         3   ham  [u, dun, say, so, early, hor, u, c, already, t...\n",
       "4         4   ham  [nah, i, don, t, think, he, goes, to, usf, he,...\n",
       "...     ...   ...                                                ...\n",
       "5164   5567  spam  [this, is, the, nd, time, we, have, tried, con...\n",
       "5165   5568   ham          [will, b, going, to, esplanade, fr, home]\n",
       "5166   5569   ham  [pity, was, in, mood, for, that, so, any, othe...\n",
       "5167   5570   ham  [the, guy, did, some, bitching, but, i, acted,...\n",
       "5168   5571   ham                   [rofl, its, true, to, its, name]\n",
       "\n",
       "[5169 rows x 3 columns]"
      ]
     },
     "execution_count": 9,
     "metadata": {},
     "output_type": "execute_result"
    }
   ],
   "source": [
    "# TreebankWordTokenizer\n",
    "tree_bank = spam.copy()\n",
    "tree_bank.v2 = tree_bank.v2.apply(TreebankWordTokenizer().tokenize)\n",
    "tree_bank"
   ]
  },
  {
   "cell_type": "code",
   "execution_count": 10,
   "metadata": {},
   "outputs": [
    {
     "data": {
      "text/html": [
       "<div>\n",
       "<style scoped>\n",
       "    .dataframe tbody tr th:only-of-type {\n",
       "        vertical-align: middle;\n",
       "    }\n",
       "\n",
       "    .dataframe tbody tr th {\n",
       "        vertical-align: top;\n",
       "    }\n",
       "\n",
       "    .dataframe thead th {\n",
       "        text-align: right;\n",
       "    }\n",
       "</style>\n",
       "<table border=\"1\" class=\"dataframe\">\n",
       "  <thead>\n",
       "    <tr style=\"text-align: right;\">\n",
       "      <th></th>\n",
       "      <th>index</th>\n",
       "      <th>v1</th>\n",
       "      <th>v2</th>\n",
       "    </tr>\n",
       "  </thead>\n",
       "  <tbody>\n",
       "    <tr>\n",
       "      <th>0</th>\n",
       "      <td>0</td>\n",
       "      <td>ham</td>\n",
       "      <td>[go, until, jurong, point, crazy, available, o...</td>\n",
       "    </tr>\n",
       "    <tr>\n",
       "      <th>1</th>\n",
       "      <td>1</td>\n",
       "      <td>ham</td>\n",
       "      <td>[ok, lar, joking, wif, u, oni]</td>\n",
       "    </tr>\n",
       "    <tr>\n",
       "      <th>2</th>\n",
       "      <td>2</td>\n",
       "      <td>spam</td>\n",
       "      <td>[free, entry, in, a, wkly, comp, to, win, fa, ...</td>\n",
       "    </tr>\n",
       "    <tr>\n",
       "      <th>3</th>\n",
       "      <td>3</td>\n",
       "      <td>ham</td>\n",
       "      <td>[u, dun, say, so, early, hor, u, c, already, t...</td>\n",
       "    </tr>\n",
       "    <tr>\n",
       "      <th>4</th>\n",
       "      <td>4</td>\n",
       "      <td>ham</td>\n",
       "      <td>[nah, i, don, t, think, he, goes, to, usf, he,...</td>\n",
       "    </tr>\n",
       "    <tr>\n",
       "      <th>...</th>\n",
       "      <td>...</td>\n",
       "      <td>...</td>\n",
       "      <td>...</td>\n",
       "    </tr>\n",
       "    <tr>\n",
       "      <th>5164</th>\n",
       "      <td>5567</td>\n",
       "      <td>spam</td>\n",
       "      <td>[this, is, the, nd, time, we, have, tried, con...</td>\n",
       "    </tr>\n",
       "    <tr>\n",
       "      <th>5165</th>\n",
       "      <td>5568</td>\n",
       "      <td>ham</td>\n",
       "      <td>[will, b, going, to, esplanade, fr, home]</td>\n",
       "    </tr>\n",
       "    <tr>\n",
       "      <th>5166</th>\n",
       "      <td>5569</td>\n",
       "      <td>ham</td>\n",
       "      <td>[pity, was, in, mood, for, that, so, any, othe...</td>\n",
       "    </tr>\n",
       "    <tr>\n",
       "      <th>5167</th>\n",
       "      <td>5570</td>\n",
       "      <td>ham</td>\n",
       "      <td>[the, guy, did, some, bitching, but, i, acted,...</td>\n",
       "    </tr>\n",
       "    <tr>\n",
       "      <th>5168</th>\n",
       "      <td>5571</td>\n",
       "      <td>ham</td>\n",
       "      <td>[rofl, its, true, to, its, name]</td>\n",
       "    </tr>\n",
       "  </tbody>\n",
       "</table>\n",
       "<p>5169 rows × 3 columns</p>\n",
       "</div>"
      ],
      "text/plain": [
       "      index    v1                                                 v2\n",
       "0         0   ham  [go, until, jurong, point, crazy, available, o...\n",
       "1         1   ham                     [ok, lar, joking, wif, u, oni]\n",
       "2         2  spam  [free, entry, in, a, wkly, comp, to, win, fa, ...\n",
       "3         3   ham  [u, dun, say, so, early, hor, u, c, already, t...\n",
       "4         4   ham  [nah, i, don, t, think, he, goes, to, usf, he,...\n",
       "...     ...   ...                                                ...\n",
       "5164   5567  spam  [this, is, the, nd, time, we, have, tried, con...\n",
       "5165   5568   ham          [will, b, going, to, esplanade, fr, home]\n",
       "5166   5569   ham  [pity, was, in, mood, for, that, so, any, othe...\n",
       "5167   5570   ham  [the, guy, did, some, bitching, but, i, acted,...\n",
       "5168   5571   ham                   [rofl, its, true, to, its, name]\n",
       "\n",
       "[5169 rows x 3 columns]"
      ]
     },
     "execution_count": 10,
     "metadata": {},
     "output_type": "execute_result"
    }
   ],
   "source": [
    "t_t = spam.copy()\n",
    "t_t.v2 = t_t.v2.apply(text_to_word_sequence)\n",
    "t_t"
   ]
  },
  {
   "cell_type": "code",
   "execution_count": 11,
   "metadata": {},
   "outputs": [
    {
     "name": "stderr",
     "output_type": "stream",
     "text": [
      "/tmp/ipykernel_1132002/208024689.py:1: FutureWarning: Passing a negative integer is deprecated in version 1.0 and will not be supported in future version. Instead, use None to not limit the column width.\n",
      "  pd.set_option('display.max_colwidth', -1) # 전체 출력\n"
     ]
    },
    {
     "data": {
      "text/html": [
       "<div>\n",
       "<style scoped>\n",
       "    .dataframe tbody tr th:only-of-type {\n",
       "        vertical-align: middle;\n",
       "    }\n",
       "\n",
       "    .dataframe tbody tr th {\n",
       "        vertical-align: top;\n",
       "    }\n",
       "\n",
       "    .dataframe thead th {\n",
       "        text-align: right;\n",
       "    }\n",
       "</style>\n",
       "<table border=\"1\" class=\"dataframe\">\n",
       "  <thead>\n",
       "    <tr style=\"text-align: right;\">\n",
       "      <th></th>\n",
       "      <th>Tokenizer</th>\n",
       "      <th>Result</th>\n",
       "    </tr>\n",
       "  </thead>\n",
       "  <tbody>\n",
       "    <tr>\n",
       "      <th>0</th>\n",
       "      <td>word_tokenize</td>\n",
       "      <td>[freemsg, hey, there, darling, it, s, been, week, s, now, and, no, word, back, i, d, like, some, fun, you, up, for, it, still, tb, ok, xxx, std, chgs, to, send, to, rcv]</td>\n",
       "    </tr>\n",
       "    <tr>\n",
       "      <th>1</th>\n",
       "      <td>WordPunctTokenizer</td>\n",
       "      <td>[freemsg, hey, there, darling, it, s, been, week, s, now, and, no, word, back, i, d, like, some, fun, you, up, for, it, still, tb, ok, xxx, std, chgs, to, send, to, rcv]</td>\n",
       "    </tr>\n",
       "    <tr>\n",
       "      <th>2</th>\n",
       "      <td>TreebankWordTokenizer</td>\n",
       "      <td>[freemsg, hey, there, darling, it, s, been, week, s, now, and, no, word, back, i, d, like, some, fun, you, up, for, it, still, tb, ok, xxx, std, chgs, to, send, to, rcv]</td>\n",
       "    </tr>\n",
       "    <tr>\n",
       "      <th>3</th>\n",
       "      <td>text_to_word_sequence</td>\n",
       "      <td>[freemsg, hey, there, darling, it, s, been, week, s, now, and, no, word, back, i, d, like, some, fun, you, up, for, it, still, tb, ok, xxx, std, chgs, to, send, to, rcv]</td>\n",
       "    </tr>\n",
       "  </tbody>\n",
       "</table>\n",
       "</div>"
      ],
      "text/plain": [
       "               Tokenizer  \\\n",
       "0  word_tokenize           \n",
       "1  WordPunctTokenizer      \n",
       "2  TreebankWordTokenizer   \n",
       "3  text_to_word_sequence   \n",
       "\n",
       "                                                                                                                                                                      Result  \n",
       "0  [freemsg, hey, there, darling, it, s, been, week, s, now, and, no, word, back, i, d, like, some, fun, you, up, for, it, still, tb, ok, xxx, std, chgs, to, send, to, rcv]  \n",
       "1  [freemsg, hey, there, darling, it, s, been, week, s, now, and, no, word, back, i, d, like, some, fun, you, up, for, it, still, tb, ok, xxx, std, chgs, to, send, to, rcv]  \n",
       "2  [freemsg, hey, there, darling, it, s, been, week, s, now, and, no, word, back, i, d, like, some, fun, you, up, for, it, still, tb, ok, xxx, std, chgs, to, send, to, rcv]  \n",
       "3  [freemsg, hey, there, darling, it, s, been, week, s, now, and, no, word, back, i, d, like, some, fun, you, up, for, it, still, tb, ok, xxx, std, chgs, to, send, to, rcv]  "
      ]
     },
     "execution_count": 11,
     "metadata": {},
     "output_type": "execute_result"
    }
   ],
   "source": [
    "pd.set_option('display.max_colwidth', -1) # 전체 출력\n",
    "\n",
    "result_tokenizing = pd.DataFrame([['word_tokenize', w_t.iloc[5]['v2']],\n",
    "                      ['WordPunctTokenizer', w_p.iloc[5]['v2']],\n",
    "                      ['TreebankWordTokenizer', tree_bank.iloc[5]['v2']],\n",
    "                      ['text_to_word_sequence', t_t.iloc[5]['v2']]], columns = ['Tokenizer', 'Result'])\n",
    "result_tokenizing"
   ]
  },
  {
   "attachments": {},
   "cell_type": "markdown",
   "metadata": {},
   "source": [
    "### text_to_word_sequence + stopwords"
   ]
  },
  {
   "cell_type": "code",
   "execution_count": 12,
   "metadata": {},
   "outputs": [
    {
     "name": "stderr",
     "output_type": "stream",
     "text": [
      "[nltk_data] Downloading package stopwords to /home/dilab/nltk_data...\n",
      "[nltk_data]   Package stopwords is already up-to-date!\n"
     ]
    }
   ],
   "source": [
    "nltk.download('stopwords')\n",
    "from nltk.corpus import stopwords \n",
    "\n",
    "def stop_word(data):\n",
    "    stop_words = set(stopwords.words('english')) \n",
    "    words = [word for word in data if word not in stop_words]\n",
    "    return words\n",
    "\n",
    "\n",
    "t_t.v2 = t_t.v2.apply(stop_word)"
   ]
  },
  {
   "attachments": {},
   "cell_type": "markdown",
   "metadata": {},
   "source": [
    "### embedding"
   ]
  },
  {
   "cell_type": "code",
   "execution_count": 53,
   "metadata": {},
   "outputs": [
    {
     "name": "stdout",
     "output_type": "stream",
     "text": [
      "Word2Vec<vocab=1204, vector_size=100, alpha=0.025>\n",
      "Word2Vec<vocab=433, vector_size=100, alpha=0.025>\n",
      "Word2Vec<vocab=1531, vector_size=100, alpha=0.025>\n"
     ]
    }
   ],
   "source": [
    "#skip-gram\n",
    "#not spam word2vec \n",
    "model_ham_sg = Word2Vec(t_t[t_t.v1 == 'ham']['v2'], min_count=5, vector_size=100, window=2, epochs=200, sg=1) # skip-gram\n",
    "print(model_ham_sg)\n",
    "model_ham_sg.save('w2v_model_ham_sg')\n",
    "w2v_model_ham_sg = Word2Vec.load('w2v_model_ham_sg')\n",
    "\n",
    "\n",
    "#spam word2vec\n",
    "model_spam_sg = Word2Vec(t_t[t_t.v1 == 'spam']['v2'], min_count=5, vector_size=100, window=2, epochs=200, sg=1) # skip-gram\n",
    "print(model_spam_sg)\n",
    "model_spam_sg.save('w2v_model_spam_sg')\n",
    "w2v_model_spam_sg = Word2Vec.load('w2v_model_spam_sg')\n",
    "\n",
    "#spam & ham \n",
    "model_ham_spam_sg = Word2Vec(t_t['v2'], min_count=5, vector_size=100, window=2, epochs=200, sg=1) # skip-gram\n",
    "print(model_ham_spam_sg)\n",
    "model_ham_spam_sg.save('w2v_model_ham_spam_sg')\n",
    "w2v_model_ham_spam_sg = Word2Vec.load('w2v_model_ham_spam_sg')"
   ]
  },
  {
   "cell_type": "code",
   "execution_count": 54,
   "metadata": {},
   "outputs": [
    {
     "name": "stdout",
     "output_type": "stream",
     "text": [
      "Word2Vec<vocab=1204, vector_size=100, alpha=0.025>\n",
      "Word2Vec<vocab=433, vector_size=100, alpha=0.025>\n",
      "Word2Vec<vocab=1531, vector_size=100, alpha=0.025>\n"
     ]
    }
   ],
   "source": [
    "#cbow \n",
    "#not spam word2vec \n",
    "model_ham_cbow = Word2Vec(t_t[t_t.v1 == 'ham']['v2'], min_count=5, vector_size=100, window=2, epochs=200, sg=0) # skip-gram\n",
    "print(model_ham_cbow)\n",
    "model_ham_cbow.save('w2v_model_ham_cbow')\n",
    "w2v_model_ham_cbow = Word2Vec.load('w2v_model_ham_cbow')\n",
    "\n",
    "#spam word2vec\n",
    "model_spam_cbow = Word2Vec(t_t[t_t.v1 == 'spam']['v2'], min_count=5, vector_size=100, window=2, epochs=200, sg=0) # skip-gram\n",
    "print(model_spam_cbow)\n",
    "model_spam_cbow.save('w2v_model_spam_cbow')\n",
    "w2v_model_spam_cbow = Word2Vec.load('w2v_model_spam_cbow')\n",
    "\n",
    "#spam & ham \n",
    "model_ham_spam_cbow = Word2Vec(t_t['v2'], min_count=5, vector_size=100, window=2, epochs=200, sg=0) # skip-gram\n",
    "print(model_ham_spam_cbow)\n",
    "model_ham_spam_cbow.save('w2v_model_ham_spam_cbow')\n",
    "w2v_model_ham_spam_cbow = Word2Vec.load('w2v_model_ham_spam_cbow')"
   ]
  },
  {
   "cell_type": "code",
   "execution_count": 55,
   "metadata": {},
   "outputs": [
    {
     "name": "stderr",
     "output_type": "stream",
     "text": [
      "/home/dilab/anaconda3/envs/djlee_env1/lib/python3.9/site-packages/sklearn/utils/deprecation.py:87: FutureWarning: Function get_feature_names is deprecated; get_feature_names is deprecated in 1.0 and will be removed in 1.2. Please use get_feature_names_out instead.\n",
      "  warnings.warn(msg, category=FutureWarning)\n"
     ]
    },
    {
     "data": {
      "text/html": [
       "<div>\n",
       "<style scoped>\n",
       "    .dataframe tbody tr th:only-of-type {\n",
       "        vertical-align: middle;\n",
       "    }\n",
       "\n",
       "    .dataframe tbody tr th {\n",
       "        vertical-align: top;\n",
       "    }\n",
       "\n",
       "    .dataframe thead th {\n",
       "        text-align: right;\n",
       "    }\n",
       "</style>\n",
       "<table border=\"1\" class=\"dataframe\">\n",
       "  <thead>\n",
       "    <tr style=\"text-align: right;\">\n",
       "      <th></th>\n",
       "      <th>word</th>\n",
       "      <th>count</th>\n",
       "    </tr>\n",
       "  </thead>\n",
       "  <tbody>\n",
       "    <tr>\n",
       "      <th>160</th>\n",
       "      <td>gt</td>\n",
       "      <td>288</td>\n",
       "    </tr>\n",
       "    <tr>\n",
       "      <th>245</th>\n",
       "      <td>lt</td>\n",
       "      <td>287</td>\n",
       "    </tr>\n",
       "    <tr>\n",
       "      <th>298</th>\n",
       "      <td>ok</td>\n",
       "      <td>255</td>\n",
       "    </tr>\n",
       "    <tr>\n",
       "      <th>155</th>\n",
       "      <td>got</td>\n",
       "      <td>227</td>\n",
       "    </tr>\n",
       "    <tr>\n",
       "      <th>212</th>\n",
       "      <td>know</td>\n",
       "      <td>225</td>\n",
       "    </tr>\n",
       "    <tr>\n",
       "      <th>229</th>\n",
       "      <td>like</td>\n",
       "      <td>222</td>\n",
       "    </tr>\n",
       "    <tr>\n",
       "      <th>153</th>\n",
       "      <td>good</td>\n",
       "      <td>215</td>\n",
       "    </tr>\n",
       "    <tr>\n",
       "      <th>67</th>\n",
       "      <td>come</td>\n",
       "      <td>212</td>\n",
       "    </tr>\n",
       "    <tr>\n",
       "      <th>450</th>\n",
       "      <td>ur</td>\n",
       "      <td>198</td>\n",
       "    </tr>\n",
       "    <tr>\n",
       "      <th>426</th>\n",
       "      <td>time</td>\n",
       "      <td>192</td>\n",
       "    </tr>\n",
       "  </tbody>\n",
       "</table>\n",
       "</div>"
      ],
      "text/plain": [
       "     word  count\n",
       "160  gt    288  \n",
       "245  lt    287  \n",
       "298  ok    255  \n",
       "155  got   227  \n",
       "212  know  225  \n",
       "229  like  222  \n",
       "153  good  215  \n",
       "67   come  212  \n",
       "450  ur    198  \n",
       "426  time  192  "
      ]
     },
     "execution_count": 55,
     "metadata": {},
     "output_type": "execute_result"
    }
   ],
   "source": [
    "from collections import Counter\n",
    "from sklearn.feature_extraction.text import CountVectorizer\n",
    "\n",
    "#not spam \n",
    "ct_vector1 = CountVectorizer(max_features= 500, stop_words = 'english', lowercase= False)\n",
    "corpus_ham = sum(t_t[t_t.v1 == 'ham']['v2'], []) \n",
    "ct_ham = ct_vector1.fit_transform(corpus_ham)\n",
    "\n",
    "count_ham = pd.DataFrame( {'word' : ct_vector1.get_feature_names(),\n",
    "                           'count' : ct_ham.sum(axis = 0).flat})\n",
    "count_ham.sort_values('count', ascending = False).head(10)"
   ]
  },
  {
   "cell_type": "code",
   "execution_count": 66,
   "metadata": {},
   "outputs": [
    {
     "name": "stderr",
     "output_type": "stream",
     "text": [
      "/home/dilab/anaconda3/envs/djlee_env1/lib/python3.9/site-packages/sklearn/utils/deprecation.py:87: FutureWarning: Function get_feature_names is deprecated; get_feature_names is deprecated in 1.0 and will be removed in 1.2. Please use get_feature_names_out instead.\n",
      "  warnings.warn(msg, category=FutureWarning)\n"
     ]
    },
    {
     "data": {
      "text/html": [
       "<div>\n",
       "<style scoped>\n",
       "    .dataframe tbody tr th:only-of-type {\n",
       "        vertical-align: middle;\n",
       "    }\n",
       "\n",
       "    .dataframe tbody tr th {\n",
       "        vertical-align: top;\n",
       "    }\n",
       "\n",
       "    .dataframe thead th {\n",
       "        text-align: right;\n",
       "    }\n",
       "</style>\n",
       "<table border=\"1\" class=\"dataframe\">\n",
       "  <thead>\n",
       "    <tr style=\"text-align: right;\">\n",
       "      <th></th>\n",
       "      <th>word</th>\n",
       "      <th>count</th>\n",
       "    </tr>\n",
       "  </thead>\n",
       "  <tbody>\n",
       "    <tr>\n",
       "      <th>144</th>\n",
       "      <td>free</td>\n",
       "      <td>197</td>\n",
       "    </tr>\n",
       "    <tr>\n",
       "      <th>437</th>\n",
       "      <td>txt</td>\n",
       "      <td>141</td>\n",
       "    </tr>\n",
       "    <tr>\n",
       "      <th>446</th>\n",
       "      <td>ur</td>\n",
       "      <td>119</td>\n",
       "    </tr>\n",
       "    <tr>\n",
       "      <th>396</th>\n",
       "      <td>stop</td>\n",
       "      <td>114</td>\n",
       "    </tr>\n",
       "    <tr>\n",
       "      <th>251</th>\n",
       "      <td>mobile</td>\n",
       "      <td>111</td>\n",
       "    </tr>\n",
       "    <tr>\n",
       "      <th>415</th>\n",
       "      <td>text</td>\n",
       "      <td>109</td>\n",
       "    </tr>\n",
       "    <tr>\n",
       "      <th>61</th>\n",
       "      <td>claim</td>\n",
       "      <td>96</td>\n",
       "    </tr>\n",
       "    <tr>\n",
       "      <th>345</th>\n",
       "      <td>reply</td>\n",
       "      <td>96</td>\n",
       "    </tr>\n",
       "    <tr>\n",
       "      <th>486</th>\n",
       "      <td>www</td>\n",
       "      <td>83</td>\n",
       "    </tr>\n",
       "    <tr>\n",
       "      <th>322</th>\n",
       "      <td>prize</td>\n",
       "      <td>82</td>\n",
       "    </tr>\n",
       "  </tbody>\n",
       "</table>\n",
       "</div>"
      ],
      "text/plain": [
       "       word  count\n",
       "144  free    197  \n",
       "437  txt     141  \n",
       "446  ur      119  \n",
       "396  stop    114  \n",
       "251  mobile  111  \n",
       "415  text    109  \n",
       "61   claim   96   \n",
       "345  reply   96   \n",
       "486  www     83   \n",
       "322  prize   82   "
      ]
     },
     "execution_count": 66,
     "metadata": {},
     "output_type": "execute_result"
    }
   ],
   "source": [
    "#spam\n",
    "vector2 = CountVectorizer(max_features= 500, stop_words = 'english', lowercase= False)\n",
    "corpus_spam = sum(t_t[t_t.v1 == 'spam']['v2'], []) \n",
    "spam = vector2.fit_transform(corpus_spam)\n",
    "\n",
    "count_ham = pd.DataFrame( {'word' : vector2.get_feature_names(),\n",
    "                           'count' : spam.sum(axis = 0).flat})\n",
    "count_ham.sort_values('count', ascending = False).head(10)"
   ]
  },
  {
   "cell_type": "code",
   "execution_count": 68,
   "metadata": {},
   "outputs": [
    {
     "name": "stderr",
     "output_type": "stream",
     "text": [
      "/home/dilab/anaconda3/envs/djlee_env1/lib/python3.9/site-packages/sklearn/utils/deprecation.py:87: FutureWarning: Function get_feature_names is deprecated; get_feature_names is deprecated in 1.0 and will be removed in 1.2. Please use get_feature_names_out instead.\n",
      "  warnings.warn(msg, category=FutureWarning)\n"
     ]
    },
    {
     "data": {
      "text/html": [
       "<div>\n",
       "<style scoped>\n",
       "    .dataframe tbody tr th:only-of-type {\n",
       "        vertical-align: middle;\n",
       "    }\n",
       "\n",
       "    .dataframe tbody tr th {\n",
       "        vertical-align: top;\n",
       "    }\n",
       "\n",
       "    .dataframe thead th {\n",
       "        text-align: right;\n",
       "    }\n",
       "</style>\n",
       "<table border=\"1\" class=\"dataframe\">\n",
       "  <thead>\n",
       "    <tr style=\"text-align: right;\">\n",
       "      <th></th>\n",
       "      <th>word</th>\n",
       "      <th>count</th>\n",
       "    </tr>\n",
       "  </thead>\n",
       "  <tbody>\n",
       "    <tr>\n",
       "      <th>446</th>\n",
       "      <td>ur</td>\n",
       "      <td>317</td>\n",
       "    </tr>\n",
       "    <tr>\n",
       "      <th>163</th>\n",
       "      <td>gt</td>\n",
       "      <td>288</td>\n",
       "    </tr>\n",
       "    <tr>\n",
       "      <th>238</th>\n",
       "      <td>lt</td>\n",
       "      <td>287</td>\n",
       "    </tr>\n",
       "    <tr>\n",
       "      <th>294</th>\n",
       "      <td>ok</td>\n",
       "      <td>260</td>\n",
       "    </tr>\n",
       "    <tr>\n",
       "      <th>139</th>\n",
       "      <td>free</td>\n",
       "      <td>253</td>\n",
       "    </tr>\n",
       "    <tr>\n",
       "      <th>208</th>\n",
       "      <td>know</td>\n",
       "      <td>243</td>\n",
       "    </tr>\n",
       "    <tr>\n",
       "      <th>225</th>\n",
       "      <td>like</td>\n",
       "      <td>234</td>\n",
       "    </tr>\n",
       "    <tr>\n",
       "      <th>160</th>\n",
       "      <td>got</td>\n",
       "      <td>233</td>\n",
       "    </tr>\n",
       "    <tr>\n",
       "      <th>159</th>\n",
       "      <td>good</td>\n",
       "      <td>227</td>\n",
       "    </tr>\n",
       "    <tr>\n",
       "      <th>78</th>\n",
       "      <td>come</td>\n",
       "      <td>214</td>\n",
       "    </tr>\n",
       "  </tbody>\n",
       "</table>\n",
       "</div>"
      ],
      "text/plain": [
       "     word  count\n",
       "446  ur    317  \n",
       "163  gt    288  \n",
       "238  lt    287  \n",
       "294  ok    260  \n",
       "139  free  253  \n",
       "208  know  243  \n",
       "225  like  234  \n",
       "160  got   233  \n",
       "159  good  227  \n",
       "78   come  214  "
      ]
     },
     "execution_count": 68,
     "metadata": {},
     "output_type": "execute_result"
    }
   ],
   "source": [
    "#spam & ham \n",
    "vector3 = CountVectorizer(max_features= 500, stop_words = 'english', lowercase= False)\n",
    "corpus_spam_ham = sum(t_t['v2'], []) \n",
    "spam = vector3.fit_transform(corpus_spam_ham)\n",
    "\n",
    "count_ham = pd.DataFrame( {'word' : vector3.get_feature_names(),\n",
    "                           'count' : spam.sum(axis = 0).flat})\n",
    "count_ham.sort_values('count', ascending = False).head(10)"
   ]
  },
  {
   "cell_type": "code",
   "execution_count": 59,
   "metadata": {},
   "outputs": [
    {
     "data": {
      "text/plain": [
       "[('lt', 0.7630465626716614),\n",
       " ('decimal', 0.5992558002471924),\n",
       " ('dollars', 0.543987512588501),\n",
       " ('feb', 0.41307172179222107),\n",
       " ('mins', 0.41011086106300354),\n",
       " ('yrs', 0.4053132236003876),\n",
       " ('rs', 0.4023570120334625),\n",
       " ('scream', 0.3847850561141968),\n",
       " ('bucks', 0.3746246099472046),\n",
       " ('salary', 0.3737648129463196)]"
      ]
     },
     "execution_count": 59,
     "metadata": {},
     "output_type": "execute_result"
    }
   ],
   "source": [
    "#ham skip-gram\n",
    "w2v_model_ham_sg.wv.most_similar('gt')\n"
   ]
  },
  {
   "cell_type": "code",
   "execution_count": 60,
   "metadata": {},
   "outputs": [
    {
     "data": {
      "text/plain": [
       "[('lt', 0.7630465626716614),\n",
       " ('decimal', 0.5992558002471924),\n",
       " ('dollars', 0.543987512588501),\n",
       " ('feb', 0.41307172179222107),\n",
       " ('mins', 0.41011086106300354),\n",
       " ('yrs', 0.4053132236003876),\n",
       " ('rs', 0.4023570120334625),\n",
       " ('scream', 0.3847850561141968),\n",
       " ('bucks', 0.3746246099472046),\n",
       " ('salary', 0.3737648129463196)]"
      ]
     },
     "execution_count": 60,
     "metadata": {},
     "output_type": "execute_result"
    }
   ],
   "source": [
    "#ham cbow\n",
    "w2v_model_ham_cbow.wv.most_similar('gt')"
   ]
  },
  {
   "cell_type": "code",
   "execution_count": 63,
   "metadata": {},
   "outputs": [
    {
     "data": {
      "text/plain": [
       "[('minutes', 0.44125786423683167),\n",
       " ('tomorrow', 0.40315988659858704),\n",
       " ('half', 0.39010122418403625),\n",
       " ('comp', 0.3644012212753296),\n",
       " ('phones', 0.3615228235721588),\n",
       " ('crazy', 0.35059022903442383),\n",
       " ('true', 0.35037678480148315),\n",
       " ('rental', 0.34821686148643494),\n",
       " ('plus', 0.34536412358283997),\n",
       " ('digital', 0.3384089171886444)]"
      ]
     },
     "execution_count": 63,
     "metadata": {},
     "output_type": "execute_result"
    }
   ],
   "source": [
    "#spam skip-gram\n",
    "w2v_model_spam_sg.wv.most_similar('free')"
   ]
  },
  {
   "cell_type": "code",
   "execution_count": 64,
   "metadata": {},
   "outputs": [
    {
     "data": {
      "text/plain": [
       "[('minutes', 0.4038458466529846),\n",
       " ('latest', 0.38505229353904724),\n",
       " ('phones', 0.38247308135032654),\n",
       " ('colour', 0.3761167526245117),\n",
       " ('get', 0.37550920248031616),\n",
       " ('mths', 0.3560161590576172),\n",
       " ('plus', 0.35412076115608215),\n",
       " ('tomorrow', 0.3480639159679413),\n",
       " ('st', 0.3303874433040619),\n",
       " ('extra', 0.32648536562919617)]"
      ]
     },
     "execution_count": 64,
     "metadata": {},
     "output_type": "execute_result"
    }
   ],
   "source": [
    "#spam cbow\n",
    "w2v_model_spam_cbow.wv.most_similar('free')"
   ]
  },
  {
   "cell_type": "code",
   "execution_count": 70,
   "metadata": {},
   "outputs": [
    {
     "data": {
      "text/plain": [
       "[('uni', 0.4602634906768799),\n",
       " ('problem', 0.4049754738807678),\n",
       " ('dinner', 0.402574360370636),\n",
       " ('pub', 0.3823489248752594),\n",
       " ('worry', 0.36011990904808044),\n",
       " ('cuz', 0.35908442735671997),\n",
       " ('five', 0.3518129587173462),\n",
       " ('home', 0.3517214357852936),\n",
       " ('mm', 0.3468843996524811),\n",
       " ('fix', 0.346502423286438)]"
      ]
     },
     "execution_count": 70,
     "metadata": {},
     "output_type": "execute_result"
    }
   ],
   "source": [
    "w2v_model_ham_spam_sg.wv.most_similar('ok')"
   ]
  },
  {
   "cell_type": "code",
   "execution_count": 71,
   "metadata": {},
   "outputs": [
    {
     "data": {
      "text/plain": [
       "[('home', 0.4122908413410187),\n",
       " ('anything', 0.35479381680488586),\n",
       " ('day', 0.34348684549331665),\n",
       " ('nothing', 0.3334616422653198),\n",
       " ('back', 0.3026300370693207),\n",
       " ('u', 0.29982447624206543),\n",
       " ('pub', 0.29300162196159363),\n",
       " ('morning', 0.2911602556705475),\n",
       " ('okay', 0.2900930345058441),\n",
       " ('din', 0.27674320340156555)]"
      ]
     },
     "execution_count": 71,
     "metadata": {},
     "output_type": "execute_result"
    }
   ],
   "source": [
    "#ham & spam cbow\n",
    "w2v_model_ham_spam_cbow.wv.most_similar('ok')"
   ]
  },
  {
   "attachments": {},
   "cell_type": "markdown",
   "metadata": {},
   "source": [
    "### visualization"
   ]
  },
  {
   "cell_type": "code",
   "execution_count": 72,
   "metadata": {},
   "outputs": [],
   "source": [
    "from collections import Counter\n",
    "from sklearn.manifold import TSNE\n",
    "import matplotlib.font_manager as fm\n",
    "import matplotlib as mpl\n",
    "from gensim.models import Word2Vec, FastText"
   ]
  },
  {
   "cell_type": "code",
   "execution_count": 73,
   "metadata": {},
   "outputs": [],
   "source": [
    "# 시각화에서 한글이 깨지기 때문에 따로 폰트를 올려주어야합니다. \n",
    "path_nanum = \"./NanumBarunpenB.otf\"\n",
    "prop = fm.FontProperties(fname=path_nanum)\n",
    "\n",
    "# 그래프에서 마이너스 폰트 깨지는 문제에 대한 대처\n",
    "mpl.rcParams['axes.unicode_minus'] = False "
   ]
  },
  {
   "cell_type": "code",
   "execution_count": 74,
   "metadata": {},
   "outputs": [],
   "source": [
    "words = []\n",
    "\n",
    "for list in t_t.v2: \n",
    "    for word in list:\n",
    "        words.append(word)"
   ]
  },
  {
   "cell_type": "code",
   "execution_count": 75,
   "metadata": {},
   "outputs": [],
   "source": [
    "#word2vec에 대한 시각화를 진행할 것으므로, model에 원하는 word2vec 모델을 올려줍니다. \n",
    "model = Word2Vec.load('w2v_model_ham_spam_sg')\n",
    "\n",
    "# 가장 빈도수가 높은 800개의 단어를 추출합니다. \n",
    "freq_list = Counter(words).most_common(100)\n",
    "vocab = [i[0] for i in freq_list if len(i[0])>1]\n",
    "\n",
    "# 해당 단어들에 해당하는 임베딩 벡터\n",
    "X = model.wv[vocab]\n",
    "\n",
    "# 2차원으로 축소합니다. \n",
    "tsne = TSNE(perplexity=30,n_components=2, init='pca', n_iter=3500, random_state=12)"
   ]
  },
  {
   "cell_type": "code",
   "execution_count": 76,
   "metadata": {},
   "outputs": [
    {
     "data": {
      "text/html": [
       "<style>#sk-container-id-3 {color: black;background-color: white;}#sk-container-id-3 pre{padding: 0;}#sk-container-id-3 div.sk-toggleable {background-color: white;}#sk-container-id-3 label.sk-toggleable__label {cursor: pointer;display: block;width: 100%;margin-bottom: 0;padding: 0.3em;box-sizing: border-box;text-align: center;}#sk-container-id-3 label.sk-toggleable__label-arrow:before {content: \"▸\";float: left;margin-right: 0.25em;color: #696969;}#sk-container-id-3 label.sk-toggleable__label-arrow:hover:before {color: black;}#sk-container-id-3 div.sk-estimator:hover label.sk-toggleable__label-arrow:before {color: black;}#sk-container-id-3 div.sk-toggleable__content {max-height: 0;max-width: 0;overflow: hidden;text-align: left;background-color: #f0f8ff;}#sk-container-id-3 div.sk-toggleable__content pre {margin: 0.2em;color: black;border-radius: 0.25em;background-color: #f0f8ff;}#sk-container-id-3 input.sk-toggleable__control:checked~div.sk-toggleable__content {max-height: 200px;max-width: 100%;overflow: auto;}#sk-container-id-3 input.sk-toggleable__control:checked~label.sk-toggleable__label-arrow:before {content: \"▾\";}#sk-container-id-3 div.sk-estimator input.sk-toggleable__control:checked~label.sk-toggleable__label {background-color: #d4ebff;}#sk-container-id-3 div.sk-label input.sk-toggleable__control:checked~label.sk-toggleable__label {background-color: #d4ebff;}#sk-container-id-3 input.sk-hidden--visually {border: 0;clip: rect(1px 1px 1px 1px);clip: rect(1px, 1px, 1px, 1px);height: 1px;margin: -1px;overflow: hidden;padding: 0;position: absolute;width: 1px;}#sk-container-id-3 div.sk-estimator {font-family: monospace;background-color: #f0f8ff;border: 1px dotted black;border-radius: 0.25em;box-sizing: border-box;margin-bottom: 0.5em;}#sk-container-id-3 div.sk-estimator:hover {background-color: #d4ebff;}#sk-container-id-3 div.sk-parallel-item::after {content: \"\";width: 100%;border-bottom: 1px solid gray;flex-grow: 1;}#sk-container-id-3 div.sk-label:hover label.sk-toggleable__label {background-color: #d4ebff;}#sk-container-id-3 div.sk-serial::before {content: \"\";position: absolute;border-left: 1px solid gray;box-sizing: border-box;top: 0;bottom: 0;left: 50%;z-index: 0;}#sk-container-id-3 div.sk-serial {display: flex;flex-direction: column;align-items: center;background-color: white;padding-right: 0.2em;padding-left: 0.2em;position: relative;}#sk-container-id-3 div.sk-item {position: relative;z-index: 1;}#sk-container-id-3 div.sk-parallel {display: flex;align-items: stretch;justify-content: center;background-color: white;position: relative;}#sk-container-id-3 div.sk-item::before, #sk-container-id-3 div.sk-parallel-item::before {content: \"\";position: absolute;border-left: 1px solid gray;box-sizing: border-box;top: 0;bottom: 0;left: 50%;z-index: -1;}#sk-container-id-3 div.sk-parallel-item {display: flex;flex-direction: column;z-index: 1;position: relative;background-color: white;}#sk-container-id-3 div.sk-parallel-item:first-child::after {align-self: flex-end;width: 50%;}#sk-container-id-3 div.sk-parallel-item:last-child::after {align-self: flex-start;width: 50%;}#sk-container-id-3 div.sk-parallel-item:only-child::after {width: 0;}#sk-container-id-3 div.sk-dashed-wrapped {border: 1px dashed gray;margin: 0 0.4em 0.5em 0.4em;box-sizing: border-box;padding-bottom: 0.4em;background-color: white;}#sk-container-id-3 div.sk-label label {font-family: monospace;font-weight: bold;display: inline-block;line-height: 1.2em;}#sk-container-id-3 div.sk-label-container {text-align: center;}#sk-container-id-3 div.sk-container {/* jupyter's `normalize.less` sets `[hidden] { display: none; }` but bootstrap.min.css set `[hidden] { display: none !important; }` so we also need the `!important` here to be able to override the default hidden behavior on the sphinx rendered scikit-learn.org. See: https://github.com/scikit-learn/scikit-learn/issues/21755 */display: inline-block !important;position: relative;}#sk-container-id-3 div.sk-text-repr-fallback {display: none;}</style><div id=\"sk-container-id-3\" class=\"sk-top-container\"><div class=\"sk-text-repr-fallback\"><pre>TSNE(init=&#x27;pca&#x27;, n_iter=3500, perplexity=30, random_state=12)</pre><b>In a Jupyter environment, please rerun this cell to show the HTML representation or trust the notebook. <br />On GitHub, the HTML representation is unable to render, please try loading this page with nbviewer.org.</b></div><div class=\"sk-container\" hidden><div class=\"sk-item\"><div class=\"sk-estimator sk-toggleable\"><input class=\"sk-toggleable__control sk-hidden--visually\" id=\"sk-estimator-id-3\" type=\"checkbox\" checked><label for=\"sk-estimator-id-3\" class=\"sk-toggleable__label sk-toggleable__label-arrow\">TSNE</label><div class=\"sk-toggleable__content\"><pre>TSNE(init=&#x27;pca&#x27;, n_iter=3500, perplexity=30, random_state=12)</pre></div></div></div></div></div>"
      ],
      "text/plain": [
       "TSNE(init='pca', n_iter=3500, perplexity=30, random_state=12)"
      ]
     },
     "execution_count": 76,
     "metadata": {},
     "output_type": "execute_result"
    }
   ],
   "source": [
    "tsne"
   ]
  },
  {
   "cell_type": "code",
   "execution_count": 77,
   "metadata": {},
   "outputs": [],
   "source": [
    "def tsne_2d(title, tsne):\n",
    "    # 100 => 2차원\n",
    "    X_tsne = tsne.fit_transform(X[:300,:])\n",
    "    df = pd.DataFrame(X_tsne, index=vocab[:300], columns=['x', 'y'])\n",
    "    %matplotlib inline\n",
    "    fig = plt.figure()\n",
    "    fig.set_size_inches(20, 10)\n",
    "    ax = fig.add_subplot(1, 1, 1)\n",
    "    ax.scatter(df[\"x\"], df[\"y\"])\n",
    "    for word, pos in df.iterrows():\n",
    "        ax.annotate(word, pos, fontsize=15, fontproperties=prop)\n",
    "    plt.title(title)\n",
    "    plt.show()"
   ]
  },
  {
   "cell_type": "code",
   "execution_count": 78,
   "metadata": {},
   "outputs": [
    {
     "name": "stderr",
     "output_type": "stream",
     "text": [
      "/home/dilab/anaconda3/envs/djlee_env1/lib/python3.9/site-packages/sklearn/manifold/_t_sne.py:810: FutureWarning: The default learning rate in TSNE will change from 200.0 to 'auto' in 1.2.\n",
      "  warnings.warn(\n",
      "/home/dilab/anaconda3/envs/djlee_env1/lib/python3.9/site-packages/sklearn/manifold/_t_sne.py:996: FutureWarning: The PCA initialization in TSNE will change to have the standard deviation of PC1 equal to 1e-4 in 1.2. This will ensure better convergence.\n",
      "  warnings.warn(\n"
     ]
    },
    {
     "data": {
      "image/png": "[encoded data removed]",
      "text/plain": [
       "<Figure size 1440x720 with 1 Axes>"
      ]
     },
     "metadata": {
      "needs_background": "light"
     },
     "output_type": "display_data"
    }
   ],
   "source": [
    "tsne_2d('Visualizing Embeddings using t-SNE', tsne)"
   ]
  }
 ],
 "metadata": {
  "kernelspec": {
   "display_name": "djlee_env1",
   "language": "python",
   "name": "python3"
  },
  "language_info": {
   "codemirror_mode": {
    "name": "ipython",
    "version": 3
   },
   "file_extension": ".py",
   "mimetype": "text/x-python",
   "name": "python",
   "nbconvert_exporter": "python",
   "pygments_lexer": "ipython3",
   "version": "3.9.7"
  },
  "orig_nbformat": 4
 },
 "nbformat": 4,
 "nbformat_minor": 2
}
